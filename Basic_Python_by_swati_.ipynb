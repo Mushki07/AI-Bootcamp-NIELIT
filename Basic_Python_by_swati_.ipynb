{
  "nbformat": 4,
  "nbformat_minor": 0,
  "metadata": {
    "colab": {
      "provenance": []
    },
    "kernelspec": {
      "name": "python3",
      "display_name": "Python 3"
    },
    "language_info": {
      "name": "python"
    }
  },
  "cells": [
    {
      "cell_type": "code",
      "execution_count": 1,
      "metadata": {
        "colab": {
          "base_uri": "https://localhost:8080/"
        },
        "id": "CYNrnVN4XRWt",
        "outputId": "88444821-817b-48d4-e05b-7926b46bbe15"
      },
      "outputs": [
        {
          "output_type": "stream",
          "name": "stdout",
          "text": [
            "hello world\n"
          ]
        }
      ],
      "source": [
        "print(\"hello world\")"
      ]
    },
    {
      "cell_type": "code",
      "source": [
        "a = 4\n",
        "b = 5\n",
        "c = a+b\n",
        "print(c)"
      ],
      "metadata": {
        "colab": {
          "base_uri": "https://localhost:8080/"
        },
        "id": "6yHbhAR1XnSM",
        "outputId": "1a289742-9d51-45b9-91ba-22fd67101717"
      },
      "execution_count": 5,
      "outputs": [
        {
          "output_type": "stream",
          "name": "stdout",
          "text": [
            "9\n"
          ]
        }
      ]
    },
    {
      "cell_type": "code",
      "source": [
        "a = int(input(\"enter 1st Number:\" ))\n",
        "b = int(input(\"enter 2st Number:\" ))\n",
        "c = a*b\n",
        "print(\"the product of the 2 Number :\",c)"
      ],
      "metadata": {
        "colab": {
          "base_uri": "https://localhost:8080/"
        },
        "id": "gO30XfBLX-IW",
        "outputId": "b5901058-48a8-4329-c881-4ae35f030596"
      },
      "execution_count": 10,
      "outputs": [
        {
          "output_type": "stream",
          "name": "stdout",
          "text": [
            "enter 1st Number:9\n",
            "enter 2st Number:8\n",
            "the product of the 2 Number : 72\n"
          ]
        }
      ]
    }
  ]
}